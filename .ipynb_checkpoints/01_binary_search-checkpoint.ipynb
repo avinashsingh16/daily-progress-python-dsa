{
 "cells": [
  {
   "cell_type": "code",
   "execution_count": 3,
   "id": "2a2b23df-bce1-47d2-8a32-be3910890902",
   "metadata": {},
   "outputs": [],
   "source": [
    "# This is the first day of starting posting on github"
   ]
  },
  {
   "cell_type": "code",
   "execution_count": 7,
   "id": "4402c399-480e-483e-9cb9-9edbdf5e310f",
   "metadata": {},
   "outputs": [],
   "source": [
    "# import library module\n",
    "import math"
   ]
  },
  {
   "cell_type": "code",
   "execution_count": 9,
   "id": "8920e848-c986-470e-8100-692874d7a175",
   "metadata": {},
   "outputs": [
    {
     "data": {
      "text/plain": [
       "7.0"
      ]
     },
     "execution_count": 9,
     "metadata": {},
     "output_type": "execute_result"
    }
   ],
   "source": [
    "# QUESTION 1: Alice has some cards with numbers written on them. She arranges the cards in decreasing order, and lays them out face down in a \n",
    "# sequence on a table. She challenges Bob to pick out the card containing a given number by turning over as few cards as possible. \n",
    "# Write a function to help Bob locate the card."
   ]
  },
  {
   "cell_type": "code",
   "execution_count": null,
   "id": "7ce4637d-811c-4a97-9e2f-d33d4e810472",
   "metadata": {},
   "outputs": [],
   "source": []
  },
  {
   "cell_type": "code",
   "execution_count": null,
   "id": "66a30ff5-9fb5-4c6b-893b-2be172dbc750",
   "metadata": {},
   "outputs": [],
   "source": []
  },
  {
   "cell_type": "code",
   "execution_count": 49,
   "id": "e7335e66-fe25-452a-b11d-868e9d49e73c",
   "metadata": {},
   "outputs": [
    {
     "ename": "IndentationError",
     "evalue": "unindent does not match any outer indentation level (<string>, line 16)",
     "output_type": "error",
     "traceback": [
      "\u001b[0;36m  File \u001b[0;32m<string>:16\u001b[0;36m\u001b[0m\n\u001b[0;31m    position+=1\u001b[0m\n\u001b[0m               ^\u001b[0m\n\u001b[0;31mIndentationError\u001b[0m\u001b[0;31m:\u001b[0m unindent does not match any outer indentation level\n"
     ]
    }
   ],
   "source": [
    "\n",
    "def locate_card(cards,query):\n",
    "    #Create a variable position with 0\n",
    "    position = 0\n",
    "\n",
    "    #Set up a loop for repetition\n",
    "    while True:\n",
    "\n",
    "        #Check if card at position is equals to query\n",
    "       if cards[position]==query:\n",
    "\n",
    "           # Answer found!return position\n",
    "            return position\n",
    "\n",
    "\n",
    "        #Increment the position\n",
    "        position+=1\n",
    "\n",
    "        # Check if we have reached the end of list\n",
    "        if position == len(cards):\n",
    "\n",
    "            # Number not found,return -1\n",
    "            return -1\n",
    "\n",
    "\n",
    "        \n",
    "        \n",
    "\n"
   ]
  },
  {
   "cell_type": "code",
   "execution_count": null,
   "id": "2bbd8b7a-a62c-4afd-b60f-8314a783a61e",
   "metadata": {},
   "outputs": [],
   "source": []
  },
  {
   "cell_type": "code",
   "execution_count": 46,
   "id": "11792ed9-dc1d-4874-8433-3b70ad1e0d3f",
   "metadata": {},
   "outputs": [],
   "source": [
    "def locate_card(cards, query):\n",
    "    # Create a variable position with the value 0\n",
    "    position = 0\n",
    "\n",
    "    # Set up a loop for repetition\n",
    "    while True:\n",
    "\n",
    "        # Check if element at the current position matche the query\n",
    "        if cards[position] == query:\n",
    "\n",
    "            # Answer found! Return and exit..\n",
    "            return position\n",
    "\n",
    "        # Increment the position\n",
    "        position += 1\n",
    "\n",
    "        # Check if we have reached the end of the array\n",
    "        if position == len(cards):\n",
    "\n",
    "            # Number not found, return -1\n",
    "            return -1"
   ]
  },
  {
   "cell_type": "code",
   "execution_count": null,
   "id": "5975632e-156e-4545-8f6d-5bb6a0856116",
   "metadata": {},
   "outputs": [],
   "source": []
  },
  {
   "cell_type": "code",
   "execution_count": null,
   "id": "0916023d-6463-40f3-a9b1-10d490e7f545",
   "metadata": {},
   "outputs": [],
   "source": []
  },
  {
   "cell_type": "code",
   "execution_count": null,
   "id": "f64ab586-0024-4878-857e-e0b721b41068",
   "metadata": {},
   "outputs": [],
   "source": []
  }
 ],
 "metadata": {
  "kernelspec": {
   "display_name": "Python 3 (ipykernel)",
   "language": "python",
   "name": "python3"
  },
  "language_info": {
   "codemirror_mode": {
    "name": "ipython",
    "version": 3
   },
   "file_extension": ".py",
   "mimetype": "text/x-python",
   "name": "python",
   "nbconvert_exporter": "python",
   "pygments_lexer": "ipython3",
   "version": "3.12.7"
  }
 },
 "nbformat": 4,
 "nbformat_minor": 5
}
