{
 "cells": [
  {
   "cell_type": "code",
   "execution_count": 3,
   "id": "2a2b23df-bce1-47d2-8a32-be3910890902",
   "metadata": {},
   "outputs": [],
   "source": [
    "# This is the first day of starting posting on github"
   ]
  },
  {
   "cell_type": "code",
   "execution_count": null,
   "id": "4402c399-480e-483e-9cb9-9edbdf5e310f",
   "metadata": {},
   "outputs": [],
   "source": []
  }
 ],
 "metadata": {
  "kernelspec": {
   "display_name": "Python 3 (ipykernel)",
   "language": "python",
   "name": "python3"
  },
  "language_info": {
   "codemirror_mode": {
    "name": "ipython",
    "version": 3
   },
   "file_extension": ".py",
   "mimetype": "text/x-python",
   "name": "python",
   "nbconvert_exporter": "python",
   "pygments_lexer": "ipython3",
   "version": "3.12.7"
  }
 },
 "nbformat": 4,
 "nbformat_minor": 5
}
